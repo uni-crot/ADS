{
 "cells": [
  {
   "cell_type": "markdown",
   "metadata": {},
   "source": [
    "## Task 2: relevance"
   ]
  },
  {
   "cell_type": "markdown",
   "metadata": {},
   "source": [
    "Some additional functions..."
   ]
  },
  {
   "cell_type": "code",
   "execution_count": null,
   "metadata": {},
   "outputs": [],
   "source": [
    "def checkConvert(line, n):\n",
    "    '''check if the line has exactly n objects and convert it to a list of integers'''\n",
    "    if len(line) != n: #O(1)\n",
    "        # print(\"Error: incorrect number of parameters.\")\n",
    "        raise RuntimeError(\"incorrect number of parameters.\")\n",
    "    else:\n",
    "        line = list(map(int, line)) #O(n)\n",
    "        return line\n",
    "    \n",
    "# Time complexity: O(n)\n",
    "# Space complexity: O(n)"
   ]
  },
  {
   "cell_type": "code",
   "execution_count": null,
   "metadata": {},
   "outputs": [],
   "source": [
    "def calcRelevance(F, a):\n",
    "    ''' calculate relevance for each object\n",
    "        F - matrix of the objects' features \n",
    "        a - list of parameters' values '''\n",
    "    R = [] # here we store relevances for objects \n",
    "    for i in range(len(F)): #O(d)\n",
    "        relevance = 0\n",
    "        for j in range(len(a)): #O(n)\n",
    "            relevance += a[j] * F[i][j]\n",
    "        R.append(relevance)\n",
    "    return R \n",
    "# Time complexity: O(d⋅n)\n",
    "# Space complexity: O(d)"
   ]
  },
  {
   "cell_type": "code",
   "execution_count": null,
   "metadata": {},
   "outputs": [],
   "source": [
    "def changeValue(F, i, j, v):\n",
    "    ''' F - matrix of the objects' features \n",
    "        i - index of the object in F\n",
    "        j - index of the feature in i-th obgect in F\n",
    "        v - new value for jth feature'''\n",
    "    \n",
    "    F[i][j] = v\n",
    "    return F \n",
    "# Time complexity: O(1)\n",
    "# Space complexity: O(1)"
   ]
  },
  {
   "cell_type": "markdown",
   "metadata": {},
   "source": [
    "The code for this task. First try  \n",
    "\n",
    "For the first try whole time complexity is $O(d \\cdot n + q \\cdot d \\cdot n + q\\cdot d \\cdot \\log d)$  \n",
    "and for space is $O(d \\cdot n)$ to store F matrix\n"
   ]
  },
  {
   "cell_type": "code",
   "execution_count": null,
   "metadata": {},
   "outputs": [
    {
     "name": "stdout",
     "output_type": "stream",
     "text": [
      "1 10\n",
      "1 10 9 8 7 6 5 4 3 2\n",
      "4 1 10 9 8 7 6 5 3 2\n"
     ]
    }
   ],
   "source": [
    "n = int(input()) # number of the parameters \n",
    "\n",
    "line2 = input().split()\n",
    "a = checkConvert(line2, n) # list of the parameters with check for appropriate amount\n",
    "\n",
    "d = int(input()) #amount of the objects\n",
    "\n",
    "F = [] # features of d objects \n",
    "for line in range(d):\n",
    "    line = checkConvert(input().split(), n) #O(d⋅n), F - O(d*n)\n",
    "    F.append(line)\n",
    "\n",
    "q = int(input()) # amount of requests\n",
    "\n",
    "for line in range(q):\n",
    "    line = list(map(int, input().split()))\n",
    "    if line[0] == 1: # Query type 1: Output top-k most relevant objects\n",
    "        R = calcRelevance(F, a) #O(d⋅n)\n",
    "        indexed_list = list(enumerate(R))\n",
    "        sorted_list = sorted(indexed_list, key=lambda item: item[1], reverse=True) #O(dlogd)\n",
    "        indices = [item[0] + 1 for item in sorted_list] # +1 for 1-based indexing\n",
    "        print(*indices[0:line[1]])\n",
    "        #for this if-block Time complexity: O(d⋅n + dlogd), space: O(d)\n",
    "    elif line[0] == 2: # Query type 2: Change value in matrix F \n",
    "        F = changeValue(F, line[1]-1, line[2]-1, line[3]) #O(1) # -1 for 0-based indexing\n",
    "    else:\n",
    "        print(\"Wrong request!\")\n",
    "# for q request in the worst case time complexity is O(q⋅d⋅n + q⋅dlogd)\n"
   ]
  },
  {
   "cell_type": "markdown",
   "metadata": {},
   "source": [
    "The code can be improved. For now calcRelevance() is called every time we get type 1 request but in fact type1 almost every time needs just sorting. Additionaly when we have type 2 request we can change matrix F only locally for that object. Also heapsort will a little bit faster. I'll implement those ideas and also performe syntaxis optomization "
   ]
  },
  {
   "cell_type": "code",
   "execution_count": null,
   "metadata": {},
   "outputs": [
    {
     "name": "stdout",
     "output_type": "stream",
     "text": [
      "1 10\n",
      "1 10 9 8 7 6 5 4 3 2\n",
      "4 1 10 9 8 7 6 5 3 2\n"
     ]
    }
   ],
   "source": [
    "def getSortedRelevanceIndices(R: list, old_indices: list = range(len(R))) -> list:\n",
    "    \"\"\"Returns indices of sorted relevances (descending)\"\"\"\n",
    "    return sorted(old_indices, key=lambda i: R[i], reverse=True)\n",
    "\n",
    "\n",
    "# Main program\n",
    "number_of_parameters = int(input())\n",
    "A = [int(i) for i in input().split()]  # list of parameters (a_i)\n",
    "number_of_objects = int(input())\n",
    "\n",
    "\n",
    "# Read features of objects from console\n",
    "F = [[int(f) for f in input().split()] for _ in range(number_of_objects)]\n",
    "\n",
    "# Calculate relevances for objects\n",
    "R = [sum(A[j] * f[j] for j in range(len(A))) for f in F]\n",
    "sorted_relevances_indices = getSortedRelevanceIndices(R)\n",
    "\n",
    "\n",
    "number_of_requests = int(input())\n",
    "\n",
    "\n",
    "for _ in range(number_of_requests):\n",
    "    request = [int(i) for i in input().split()]\n",
    "\n",
    "    if request[0] == 1: # Query type 1: Output top-k most relevant objects, t O(q⋅(d+klogk))\n",
    "        print(*[i + 1 for i in sorted_relevances_indices[: request[1]]])\n",
    "\n",
    "    elif request[0] == 2: # Query type 2: Change value in matrix F and update relevance, t O(q⋅n)\n",
    "\n",
    "        # Read and convert to 0-based index\n",
    "        i, j, v = request[1] - 1, request[2] - 1, request[3]\n",
    "\n",
    "        # Update relevance matrix\n",
    "        R[i] = R[i] - F[i][j] + v\n",
    "        F[i][j] = v\n",
    "\n",
    "        sorted_relevances_indices = getSortedRelevanceIndices(R, sorted_relevances_indices)\n",
    "\n",
    "    else:\n",
    "        raise RuntimeError(\"Bad request!!!\")"
   ]
  },
  {
   "cell_type": "markdown",
   "metadata": {},
   "source": [
    "Total time complexity: $O(q⋅(d+klogk)+q⋅n)$, space complexity $O(d⋅n)$."
   ]
  }
 ],
 "metadata": {
  "kernelspec": {
   "display_name": "Python 3",
   "language": "python",
   "name": "python3"
  },
  "language_info": {
   "codemirror_mode": {
    "name": "ipython",
    "version": 3
   },
   "file_extension": ".py",
   "mimetype": "text/x-python",
   "name": "python",
   "nbconvert_exporter": "python",
   "pygments_lexer": "ipython3",
   "version": "3.8.5"
  }
 },
 "nbformat": 4,
 "nbformat_minor": 2
}
