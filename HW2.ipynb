{
 "cells": [
  {
   "cell_type": "markdown",
   "metadata": {},
   "source": [
    "## Task 2: relevance\n",
    "\n",
    "Time complexity: $O(n \\cdot d + n \\cdot log n + q \\cdot n \\cdot logn)$. Actually, the last term is smaller, because we sort almost sorted list.  \n",
    "\n",
    "Space complexiy: $O(n \\cdot d + n + 2 \\cdot d) ≈ O(n \\cdot d)$"
   ]
  },
  {
   "cell_type": "code",
   "execution_count": null,
   "metadata": {},
   "outputs": [],
   "source": [
    "def getSortedRelevanceIndices(R: list, old_indices: list = None) -> list:\n",
    "    \"\"\"Returns indices of sorted relevances (descending)\"\"\"\n",
    "\n",
    "    indices = old_indices if old_indices else range(len(R))\n",
    "    return sorted(indices, key=lambda i: R[i], reverse=True)\n",
    "\n",
    "\n",
    "# Main program\n",
    "number_of_parameters = int(input())\n",
    "A = [int(i) for i in input().split()]  # list of parameters (a_i)\n",
    "number_of_objects = int(input())\n",
    "\n",
    "\n",
    "# Read features of objects from console\n",
    "F = [[int(f) for f in input().split()] for _ in range(number_of_objects)]\n",
    "\n",
    "# Calculate relevances for objects\n",
    "R = [sum(A[j] * f[j] for j in range(len(A))) for f in F]\n",
    "sorted_relevances_indices = getSortedRelevanceIndices(R)\n",
    "\n",
    "\n",
    "number_of_requests = int(input())\n",
    "\n",
    "\n",
    "for _ in range(number_of_requests):\n",
    "    request = [int(i) for i in input().split()]\n",
    "\n",
    "    if request[0] == 1:  # Query type 1: Output top-k most relevant objects\n",
    "        print(*[i + 1 for i in sorted_relevances_indices[: request[1]]])\n",
    "\n",
    "    elif request[0] == 2:  # Query type 2: Change value in matrix F and update relevance\n",
    "        # Read and convert to 0-based index\n",
    "        i, j, v = request[1] - 1, request[2] - 1, request[3]\n",
    "\n",
    "        # Update relevance matrix\n",
    "        R[i] = R[i] - F[i][j] + v\n",
    "        F[i][j] = v\n",
    "\n",
    "        sorted_relevances_indices = getSortedRelevanceIndices(R, sorted_relevances_indices)\n",
    "\n",
    "    else:\n",
    "        raise RuntimeError(\"Bad request!!!\")"
   ]
  }
 ],
 "metadata": {
  "kernelspec": {
   "display_name": "Python 3",
   "language": "python",
   "name": "python3"
  },
  "language_info": {
   "codemirror_mode": {
    "name": "ipython",
    "version": 3
   },
   "file_extension": ".py",
   "mimetype": "text/x-python",
   "name": "python",
   "nbconvert_exporter": "python",
   "pygments_lexer": "ipython3",
   "version": "3.8.5"
  }
 },
 "nbformat": 4,
 "nbformat_minor": 2
}
