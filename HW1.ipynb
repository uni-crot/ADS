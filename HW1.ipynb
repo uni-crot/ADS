{
 "cells": [
  {
   "cell_type": "code",
   "execution_count": 31,
   "id": "a4beeeb3-c63d-4862-b34d-84ebb09b0783",
   "metadata": {},
   "outputs": [],
   "source": [
    "class Node():\n",
    "    def __init__(self, data):\n",
    "        self.data = data\n",
    "        self.next = None\n",
    "\n",
    "class LinkedList():\n",
    "    def __init__(self):\n",
    "        self.head = None\n",
    "\n",
    "    def add(self, data):\n",
    "        if self.head is None:\n",
    "            self.head = Node(data)\n",
    "        else:\n",
    "            node = self.head\n",
    "            while node.next is not None:\n",
    "                node = node.next\n",
    "            node.next = Node(data)\n",
    "\n",
    "    def delete(self, index):\n",
    "        if self.head is None:\n",
    "            print('empty list')\n",
    "            return\n",
    "        else:\n",
    "            count = 0\n",
    "            node = self.head\n",
    "            prev = None\n",
    "            while count != index and node is not None:\n",
    "                prev = node\n",
    "                node = node.next\n",
    "                count += 1\n",
    "            if count == index:\n",
    "                if index == 0:\n",
    "                    self.head = self.head.next\n",
    "                else:\n",
    "                    prev.next = node.next\n",
    "            \n",
    "        \n",
    "    def insert(self, data, index):\n",
    "        if index == 0:\n",
    "            new_node = Node(data)\n",
    "            new_node.next = self.head\n",
    "            self.head = new_node\n",
    "            return\n",
    "            \n",
    "        if self.head is None:\n",
    "            print('empty list')\n",
    "            return\n",
    "        else:\n",
    "            count = 0\n",
    "            prev = None\n",
    "            node = self.head\n",
    "            while count != index and node is not None:\n",
    "                prev = node\n",
    "                node = node.next\n",
    "                count += 1\n",
    "            if count == index:\n",
    "                new_node = Node(data)\n",
    "                new_node.next = prev.next\n",
    "                prev.next = new_node\n",
    "\n",
    "    def print(self):\n",
    "        if self.head is not None:\n",
    "            node = self.head\n",
    "            while node is not None:\n",
    "                print(node.data)\n",
    "                node = node.next\n",
    "\n",
    "    def __print(self, node):\n",
    "        if node is not None:\n",
    "            print(node.data)\n",
    "            self.__print(node.next)\n",
    "    \n",
    "    def print_rec(self):\n",
    "        self.__print(self.head)\n",
    "\n",
    "    \n",
    "    def reverse(self):\n",
    "        prev_node = None\n",
    "        cur_node = self.head\n",
    "        while cur_node is not None:\n",
    "            next_node = cur_node.next  \n",
    "            cur_node.next = prev_node \n",
    "            prev_node = cur_node       \n",
    "            cur_node = next_node       \n",
    "        self.head = prev_node \n",
    "            \n",
    "            \n"
   ]
  },
  {
   "cell_type": "code",
   "execution_count": 32,
   "id": "fb23c537-efe4-4383-9b77-231171823c5b",
   "metadata": {},
   "outputs": [
    {
     "name": "stdout",
     "output_type": "stream",
     "text": [
      "0\n",
      "1\n",
      "2\n",
      "3\n",
      "4\n",
      "5\n"
     ]
    }
   ],
   "source": [
    "l = LinkedList()\n",
    "l.add(0)\n",
    "l.add(1)\n",
    "l.add(2)\n",
    "l.add(3)\n",
    "l.add(4)\n",
    "l.add(5)\n",
    "l.print()"
   ]
  },
  {
   "cell_type": "code",
   "execution_count": 33,
   "id": "c0f94037-f65f-4c25-80e7-d2b463f8b714",
   "metadata": {},
   "outputs": [
    {
     "name": "stdout",
     "output_type": "stream",
     "text": [
      "5\n",
      "4\n",
      "3\n",
      "2\n",
      "1\n",
      "0\n"
     ]
    }
   ],
   "source": [
    "l.reverse()\n",
    "l.print()"
   ]
  },
  {
   "cell_type": "code",
   "execution_count": 51,
   "id": "38224ff6-d587-4a35-9320-a3d8d344390e",
   "metadata": {},
   "outputs": [],
   "source": [
    "l = LinkedList()"
   ]
  },
  {
   "cell_type": "code",
   "execution_count": 52,
   "id": "9a3e71d0-4971-4b75-8e7f-2ed1b5db6892",
   "metadata": {},
   "outputs": [],
   "source": [
    "l.print()"
   ]
  },
  {
   "cell_type": "code",
   "execution_count": 28,
   "id": "90a5267a-8419-4a5a-a620-3b73c3f82dfd",
   "metadata": {},
   "outputs": [
    {
     "name": "stdout",
     "output_type": "stream",
     "text": [
      "0\n"
     ]
    }
   ],
   "source": [
    "l.add(0)\n",
    "l.print()"
   ]
  },
  {
   "cell_type": "code",
   "execution_count": 29,
   "id": "ad4591ae-3f1b-416c-8216-c5222a6e5a8c",
   "metadata": {},
   "outputs": [
    {
     "name": "stdout",
     "output_type": "stream",
     "text": [
      "0\n",
      "0\n"
     ]
    }
   ],
   "source": [
    "l.add(0)\n",
    "l.print()"
   ]
  },
  {
   "cell_type": "code",
   "execution_count": 30,
   "id": "afaa6880-a539-4125-8054-878a65c00a5a",
   "metadata": {},
   "outputs": [
    {
     "name": "stdout",
     "output_type": "stream",
     "text": [
      "0\n",
      "0\n",
      "10\n"
     ]
    }
   ],
   "source": [
    "l.add(10)\n",
    "l.print()"
   ]
  },
  {
   "cell_type": "code",
   "execution_count": 31,
   "id": "6ea11234-2641-41fb-9a33-329661635e3e",
   "metadata": {},
   "outputs": [
    {
     "name": "stdout",
     "output_type": "stream",
     "text": [
      "0\n",
      "0\n",
      "10\n"
     ]
    }
   ],
   "source": [
    "l.print_rec()"
   ]
  },
  {
   "cell_type": "code",
   "execution_count": 2,
   "id": "605497af-72dd-4f08-b8a3-f12dc828ef5b",
   "metadata": {},
   "outputs": [
    {
     "name": "stdout",
     "output_type": "stream",
     "text": [
      "0\n",
      "1\n",
      "2\n",
      "3\n",
      "4\n",
      "5\n"
     ]
    }
   ],
   "source": [
    "l = LinkedList()\n",
    "l.add(0)\n",
    "l.add(1)\n",
    "l.add(2)\n",
    "l.add(3)\n",
    "l.add(4)\n",
    "l.add(5)\n",
    "l.print()"
   ]
  },
  {
   "cell_type": "code",
   "execution_count": null,
   "id": "d8a0679c-5cfb-49fb-80f0-1a37f02484e8",
   "metadata": {},
   "outputs": [],
   "source": []
  },
  {
   "cell_type": "code",
   "execution_count": 34,
   "id": "fbc5b79e-ccc2-4765-a0e6-aec56def6596",
   "metadata": {},
   "outputs": [
    {
     "name": "stdout",
     "output_type": "stream",
     "text": [
      "0\n",
      "1\n",
      "2\n",
      "3\n",
      "4\n"
     ]
    }
   ],
   "source": [
    "l.delete(5)\n",
    "l.print()"
   ]
  },
  {
   "cell_type": "code",
   "execution_count": 35,
   "id": "1cb6e267-748f-4cb9-9215-bf3fb62de262",
   "metadata": {},
   "outputs": [
    {
     "name": "stdout",
     "output_type": "stream",
     "text": [
      "0\n",
      "1\n",
      "2\n",
      "4\n"
     ]
    }
   ],
   "source": [
    "l.delete(3)\n",
    "l.print()"
   ]
  },
  {
   "cell_type": "code",
   "execution_count": 36,
   "id": "b396cbe5-4deb-448c-8eb0-57773bedbc87",
   "metadata": {},
   "outputs": [
    {
     "name": "stdout",
     "output_type": "stream",
     "text": [
      "1\n",
      "2\n",
      "4\n"
     ]
    }
   ],
   "source": [
    "l.delete(0)\n",
    "l.print()"
   ]
  },
  {
   "cell_type": "code",
   "execution_count": 37,
   "id": "34ddabfb-81a9-413f-b8f4-e8c46c61b5f1",
   "metadata": {},
   "outputs": [
    {
     "name": "stdout",
     "output_type": "stream",
     "text": [
      "empty list\n"
     ]
    }
   ],
   "source": [
    "l.delete(0)\n",
    "l.delete(0)\n",
    "l.delete(0)\n",
    "l.delete(0)\n",
    "l.print()"
   ]
  },
  {
   "cell_type": "code",
   "execution_count": 64,
   "id": "3e674a63-28fe-4b38-a497-efc34d630c5c",
   "metadata": {},
   "outputs": [
    {
     "name": "stdout",
     "output_type": "stream",
     "text": [
      "0\n",
      "1\n",
      "2\n",
      "3\n",
      "4\n",
      "5\n"
     ]
    }
   ],
   "source": [
    "l = LinkedList()\n",
    "l.add(0)\n",
    "l.add(1)\n",
    "l.add(2)\n",
    "l.add(3)\n",
    "l.add(4)\n",
    "l.add(5)\n",
    "l.print()"
   ]
  },
  {
   "cell_type": "code",
   "execution_count": 65,
   "id": "9fc8079b-6dee-4562-a0fe-632e9d5d9a16",
   "metadata": {},
   "outputs": [
    {
     "name": "stdout",
     "output_type": "stream",
     "text": [
      "-1\n",
      "0\n",
      "1\n",
      "2\n",
      "3\n",
      "4\n",
      "5\n"
     ]
    }
   ],
   "source": [
    "l.insert(-1, 0)\n",
    "l.print()"
   ]
  },
  {
   "cell_type": "code",
   "execution_count": 67,
   "id": "4c35891e-125a-4cea-af12-9138a550ade8",
   "metadata": {},
   "outputs": [
    {
     "name": "stdout",
     "output_type": "stream",
     "text": [
      "-1\n",
      "0\n",
      "1\n",
      "2\n",
      "6\n",
      "3\n",
      "4\n",
      "7\n",
      "5\n"
     ]
    }
   ],
   "source": [
    "l.insert(7, 7)\n",
    "l.print()"
   ]
  },
  {
   "cell_type": "code",
   "execution_count": 68,
   "id": "b1355ce7-091e-46f1-a0fb-22415e21bae3",
   "metadata": {},
   "outputs": [
    {
     "name": "stdout",
     "output_type": "stream",
     "text": [
      "empty list\n"
     ]
    }
   ],
   "source": [
    "l = LinkedList()\n",
    "l.insert(0, 50)"
   ]
  },
  {
   "cell_type": "code",
   "execution_count": 69,
   "id": "c30115ae-4a1e-42e0-9864-0321bddfd9ec",
   "metadata": {},
   "outputs": [],
   "source": [
    "l.print()"
   ]
  },
  {
   "cell_type": "code",
   "execution_count": 70,
   "id": "a1f38f0d-7ef3-4acb-b39e-70482f2422fb",
   "metadata": {},
   "outputs": [],
   "source": [
    "l.insert(0, 0)"
   ]
  },
  {
   "cell_type": "code",
   "execution_count": 71,
   "id": "7199d991-6429-4775-ae3d-737bf00e2c37",
   "metadata": {},
   "outputs": [
    {
     "name": "stdout",
     "output_type": "stream",
     "text": [
      "0\n"
     ]
    }
   ],
   "source": [
    "l.print()"
   ]
  },
  {
   "cell_type": "code",
   "execution_count": 38,
   "id": "58f52f86-0a33-4218-ba01-9fe239705805",
   "metadata": {},
   "outputs": [
    {
     "data": {
      "text/plain": [
       "[4, 16, 36, 64, 100]"
      ]
     },
     "execution_count": 38,
     "metadata": {},
     "output_type": "execute_result"
    }
   ],
   "source": [
    "[x**2 for x in range(1, 11) if x % 2 == 0]"
   ]
  },
  {
   "cell_type": "code",
   "execution_count": null,
   "id": "3024cb3b-0080-4e7c-9a6a-c5bbff1cab02",
   "metadata": {},
   "outputs": [],
   "source": [
    "import "
   ]
  }
 ],
 "metadata": {
  "kernelspec": {
   "display_name": "Python 3 (ipykernel)",
   "language": "python",
   "name": "python3"
  },
  "language_info": {
   "codemirror_mode": {
    "name": "ipython",
    "version": 3
   },
   "file_extension": ".py",
   "mimetype": "text/x-python",
   "name": "python",
   "nbconvert_exporter": "python",
   "pygments_lexer": "ipython3",
   "version": "3.11.5"
  }
 },
 "nbformat": 4,
 "nbformat_minor": 5
}
