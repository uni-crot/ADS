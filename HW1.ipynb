{
 "cells": [
  {
   "cell_type": "code",
   "execution_count": 16,
   "id": "a4beeeb3-c63d-4862-b34d-84ebb09b0783",
   "metadata": {},
   "outputs": [],
   "source": [
    "class Node():\n",
    "    def __init__(self, data):\n",
    "        self.data = data\n",
    "        self.next = None\n",
    "\n",
    "class LinkedList():\n",
    "    def __init__(self):\n",
    "        self.head = None\n",
    "\n",
    "    def add(self, data):\n",
    "        if self.head is None:\n",
    "            self.head = Node(data)\n",
    "        else:\n",
    "            node = self.head\n",
    "            while node.next is not None:\n",
    "                node = node.next\n",
    "            node.next = Node(data)\n",
    "\n",
    "    def delete(self, index):\n",
    "        if self.head is None:\n",
    "            print('empty list')\n",
    "            return\n",
    "        else:\n",
    "            count = 0\n",
    "            node = self.head\n",
    "            prev = None\n",
    "            while count != index and node is not None:\n",
    "                prev = node\n",
    "                node = node.next\n",
    "                count += 1\n",
    "            if count == index:\n",
    "                if index == 0:\n",
    "                    self.head = self.head.next\n",
    "                else:\n",
    "                    prev.next = node.next\n",
    "            \n",
    "        \n",
    "    def insert(self, data, index):\n",
    "        if index == 0:\n",
    "            new_node = Node(data)\n",
    "            new_node.next = self.head\n",
    "            self.head = new_node\n",
    "            return\n",
    "            \n",
    "        if self.head is None:\n",
    "            print('empty list')\n",
    "            return\n",
    "        else:\n",
    "            count = 0\n",
    "            prev = None\n",
    "            node = self.head\n",
    "            while count != index and node is not None:\n",
    "                prev = node\n",
    "                node = node.next\n",
    "                count += 1\n",
    "            if count == index:\n",
    "                new_node = Node(data)\n",
    "                new_node.next = prev.next\n",
    "                prev.next = new_node\n",
    "\n",
    "    def print(self):\n",
    "        if self.head is not None:\n",
    "            node = self.head\n",
    "            while node is not None:\n",
    "                print(node.data)\n",
    "                node = node.next\n",
    "\n",
    "    def __print(self, node):\n",
    "        if node is not None:\n",
    "            print(node.data)\n",
    "            self.__print(node.next)\n",
    "    \n",
    "    def print_rec(self):\n",
    "        self.__print(self.head)\n",
    "\n",
    "    # для разворота однонаправленного списка \n",
    "    def reverse(self):\n",
    "        prev_node = None\n",
    "        cur_node = self.head\n",
    "        while cur_node is not None:\n",
    "            next_node = cur_node.next  \n",
    "            cur_node.next = prev_node \n",
    "            prev_node = cur_node       \n",
    "            cur_node = next_node       \n",
    "        self.head = prev_node \n",
    "\n",
    "    # развернть можно с помощью рекурсии. Тут не только разворот, но и сразу печать \n",
    "    def __reverse(self, node):\n",
    "        if node is not None:\n",
    "            self.__reverse(node.next)\n",
    "            print(node.data)\n",
    "            \n",
    "\n",
    "    def reverse_rec(self):\n",
    "        self.__reverse(self.head)\n",
    "        \n",
    "            \n",
    "            \n",
    "            \n"
   ]
  },
  {
   "cell_type": "code",
   "execution_count": 22,
   "id": "fb23c537-efe4-4383-9b77-231171823c5b",
   "metadata": {},
   "outputs": [
    {
     "name": "stdout",
     "output_type": "stream",
     "text": [
      "0\n",
      "1\n",
      "2\n",
      "3\n",
      "4\n",
      "5\n"
     ]
    }
   ],
   "source": [
    "l = LinkedList()\n",
    "l.add(0)\n",
    "l.add(1)\n",
    "l.add(2)\n",
    "l.add(3)\n",
    "l.add(4)\n",
    "l.add(5)\n",
    "l.print()"
   ]
  },
  {
   "cell_type": "code",
   "execution_count": 23,
   "id": "c0f94037-f65f-4c25-80e7-d2b463f8b714",
   "metadata": {},
   "outputs": [
    {
     "name": "stdout",
     "output_type": "stream",
     "text": [
      "5\n",
      "4\n",
      "3\n",
      "2\n",
      "1\n",
      "0\n"
     ]
    }
   ],
   "source": [
    "l.reverse()\n",
    "l.print()"
   ]
  },
  {
   "cell_type": "code",
   "execution_count": 24,
   "id": "883c5deb",
   "metadata": {},
   "outputs": [
    {
     "name": "stdout",
     "output_type": "stream",
     "text": [
      "0\n",
      "1\n",
      "2\n",
      "3\n",
      "4\n",
      "5\n"
     ]
    }
   ],
   "source": [
    "l2 = LinkedList()\n",
    "l2.add(0)\n",
    "l2.add(1)\n",
    "l2.add(2)\n",
    "l2.add(3)\n",
    "l2.add(4)\n",
    "l2.add(5)\n",
    "l2.print()"
   ]
  },
  {
   "cell_type": "code",
   "execution_count": 25,
   "id": "917984ab",
   "metadata": {},
   "outputs": [
    {
     "name": "stdout",
     "output_type": "stream",
     "text": [
      "5\n",
      "4\n",
      "3\n",
      "2\n",
      "1\n",
      "0\n"
     ]
    }
   ],
   "source": [
    "l2.reverse_rec()\n"
   ]
  },
  {
   "cell_type": "code",
   "execution_count": null,
   "id": "cc1735c0",
   "metadata": {},
   "outputs": [],
   "source": []
  }
 ],
 "metadata": {
  "kernelspec": {
   "display_name": "Python 3",
   "language": "python",
   "name": "python3"
  },
  "language_info": {
   "codemirror_mode": {
    "name": "ipython",
    "version": 3
   },
   "file_extension": ".py",
   "mimetype": "text/x-python",
   "name": "python",
   "nbconvert_exporter": "python",
   "pygments_lexer": "ipython3",
   "version": "3.9.6"
  }
 },
 "nbformat": 4,
 "nbformat_minor": 5
}
