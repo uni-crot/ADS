{
 "cells": [
  {
   "cell_type": "markdown",
   "metadata": {},
   "source": [
    "## Task 7: Bellman–Ford algorithm  \n",
    "Time complexity:  O(VE) + O(E) = O(VE)\n",
    "Space complexity:  O(V+E)\n",
    " \n",
    "На вход - граф и начальная вершина start, нужно найти кратчайшее расстояние от верщины start до всех оставшихся. Возможны ребра с отрицательными весами\n"
   ]
  },
  {
   "cell_type": "code",
   "execution_count": 34,
   "metadata": {},
   "outputs": [],
   "source": [
    "def bellman_ford(graph, start):\n",
    "    if start not in graph:\n",
    "        raise ValueError(f\"Стартовая вершина {start} отсутствует в графе\")\n",
    "    \n",
    "    dist = {node: float('inf') for node in graph} #o(V)\n",
    "    dist[start] = 0\n",
    "\n",
    "    V = len(graph)\n",
    "\n",
    "    for _ in range(V - 1): # для всего этого блока общая сложность O(V-1)O(E) = O(VE)\n",
    "        for node in graph: #O(V)\n",
    "            for neighbor, weight in graph[node]: #O(E)\n",
    "                if dist[node] != float(\"Inf\") and dist[node] + weight < dist[neighbor]:\n",
    "                    dist[neighbor] = dist[node] + weight\n",
    "\n",
    "    # Проверка на наличие отрицательного цикла\n",
    "    for node in graph:\n",
    "        for neighbor, weight in graph[node]: #O(E)\n",
    "            if dist[node] != float('inf') and dist[node] + weight < dist[neighbor]:\n",
    "                print(\"Граф содержит отрицательный цикл\")\n",
    "\n",
    "    return dist\n"
   ]
  },
  {
   "cell_type": "code",
   "execution_count": 38,
   "metadata": {},
   "outputs": [
    {
     "name": "stdout",
     "output_type": "stream",
     "text": [
      "{0: [(1, -1), (2, 4)], 1: [(2, 3), (3, 2), (4, 2)], 2: [], 3: [(2, 5), (1, 1)], 4: [(3, -3)]}\n"
     ]
    }
   ],
   "source": [
    "graph = {\n",
    "    0: [(1, -1), (2, 4)],\n",
    "    1: [(2, 3), (3, 2), (4, 2)],\n",
    "    2: [],\n",
    "    3: [(2, 5), (1, 1)],\n",
    "    4: [(3, -3)]\n",
    "}\n",
    "print(graph)"
   ]
  },
  {
   "cell_type": "code",
   "execution_count": 39,
   "metadata": {},
   "outputs": [
    {
     "name": "stdout",
     "output_type": "stream",
     "text": [
      "Кратчайшие расстояния от вершины 0:\n",
      "До вершины 0 расстояние 0\n",
      "До вершины 1 расстояние -1\n",
      "До вершины 2 расстояние 2\n",
      "До вершины 3 расстояние -2\n",
      "До вершины 4 расстояние 1\n"
     ]
    }
   ],
   "source": [
    "start_node = int(input())\n",
    "distances = bellman_ford(graph, start_node)\n",
    "print(f\"Кратчайшие расстояния от вершины {start_node}:\")\n",
    "for node, distance in distances.items():\n",
    "    print(f\"До вершины {node} расстояние {distance}\")"
   ]
  }
 ],
 "metadata": {
  "kernelspec": {
   "display_name": "Python 3",
   "language": "python",
   "name": "python3"
  },
  "language_info": {
   "codemirror_mode": {
    "name": "ipython",
    "version": 3
   },
   "file_extension": ".py",
   "mimetype": "text/x-python",
   "name": "python",
   "nbconvert_exporter": "python",
   "pygments_lexer": "ipython3",
   "version": "3.8.5"
  }
 },
 "nbformat": 4,
 "nbformat_minor": 2
}
