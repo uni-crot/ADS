{
 "cells": [
  {
   "cell_type": "markdown",
   "metadata": {},
   "source": [
    "## Task 6: hotel day\n",
    "Time complexity:  O(n⋅d + k)   \n",
    "Space complexity:  O(k)  \n",
    "\n",
    "n - amount of guests (len(visits))  \n",
    "d - in avearge days for one guest  \n",
    "k - amount of unique days  "
   ]
  },
  {
   "cell_type": "code",
   "execution_count": 26,
   "metadata": {},
   "outputs": [],
   "source": [
    "from collections import defaultdict\n",
    "from datetime import datetime, timedelta\n",
    "\n",
    "def the_busiest_day(visits: list) -> str:\n",
    "    visitor_count = defaultdict(int)\n",
    "\n",
    "    for start, end in visits: # n guests\n",
    "        start_date = datetime.strptime(start, \"%Y-%m-%d\")\n",
    "        end_date = datetime.strptime(end, \"%Y-%m-%d\")\n",
    "        current_date = start_date\n",
    "        \n",
    "        while current_date <= end_date: # d days\n",
    "            visitor_count[current_date] += 1\n",
    "            current_date += timedelta(days=1)\n",
    "    \n",
    "    max_visitors = 0\n",
    "    max_day = None\n",
    "    \n",
    "    for date, count in visitor_count.items(): # k days\n",
    "        if count > max_visitors:\n",
    "            max_visitors = count\n",
    "            max_day = date\n",
    "    \n",
    "    return max_day, max_visitors"
   ]
  },
  {
   "cell_type": "code",
   "execution_count": 28,
   "metadata": {},
   "outputs": [
    {
     "name": "stdout",
     "output_type": "stream",
     "text": [
      "Максимальное число посетителей (5) было 2024-06-11\n"
     ]
    }
   ],
   "source": [
    "visits = [\n",
    "    ('2024-06-22', '2024-06-29'),\n",
    "    ('2024-05-17', '2024-06-07'),\n",
    "    ('2024-06-11', '2024-06-12'),\n",
    "    ('2024-06-30', '2024-06-30'),\n",
    "    ('2024-06-02', '2024-06-12'),\n",
    "    ('2024-06-17', '2024-06-27'),\n",
    "    ('2024-06-10', '2024-06-15'),\n",
    "    ('2024-05-24', '2024-06-12'),\n",
    "    ('2024-05-02', '2024-05-10'),\n",
    "    ('2024-05-20', '2024-06-20')\n",
    "]\n",
    "\n",
    "max_day, max_visitors = the_busiest_day(visits) \n",
    "print(f\"Максимальное число посетителей ({max_visitors}) было {max_day.strftime('%Y-%m-%d')}\")\n"
   ]
  }
 ],
 "metadata": {
  "kernelspec": {
   "display_name": "Python 3",
   "language": "python",
   "name": "python3"
  },
  "language_info": {
   "codemirror_mode": {
    "name": "ipython",
    "version": 3
   },
   "file_extension": ".py",
   "mimetype": "text/x-python",
   "name": "python",
   "nbconvert_exporter": "python",
   "pygments_lexer": "ipython3",
   "version": "3.8.5"
  }
 },
 "nbformat": 4,
 "nbformat_minor": 2
}
