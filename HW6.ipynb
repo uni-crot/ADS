{
 "cells": [
  {
   "cell_type": "markdown",
   "metadata": {},
   "source": [
    "## Task 6: hotel day\n",
    "Time complexity:  O(n + nlogn)   \n",
    "Space complexity:  O(n)  \n",
    "\n",
    "n - amount of guests (len(visits))  "
   ]
  },
  {
   "cell_type": "code",
   "execution_count": 9,
   "metadata": {},
   "outputs": [],
   "source": [
    "from datetime import datetime, timedelta\n",
    "\n",
    "def the_busiest_day(visits: list) -> str:\n",
    "    events = {}\n",
    "\n",
    "    for start, end in visits: # n guests\n",
    "        start_date = datetime.strptime(start, \"%Y-%m-%d\")\n",
    "        end_date = datetime.strptime(end, \"%Y-%m-%d\")\n",
    "\n",
    "        if start_date in events:\n",
    "            events[start_date] += 1\n",
    "        else:\n",
    "            events[start_date] = 1\n",
    "\n",
    "        if end_date in events:\n",
    "            events[end_date] -= 1\n",
    "        else:\n",
    "            events[end_date] = -1\n",
    "\n",
    "    sorted_events = sorted(events.items())\n",
    "\n",
    "    max_visitors = 0\n",
    "    visitors = 0\n",
    "    max_day = None\n",
    "    \n",
    "    for date, change in sorted_events:\n",
    "        visitors += change\n",
    "\n",
    "        if max_visitors < visitors:\n",
    "            max_visitors = visitors\n",
    "            max_day = date\n",
    "    \n",
    "    return max_day, max_visitors"
   ]
  },
  {
   "cell_type": "code",
   "execution_count": 10,
   "metadata": {},
   "outputs": [
    {
     "name": "stdout",
     "output_type": "stream",
     "text": [
      "[(datetime.datetime(2024, 5, 2, 0, 0), 1), (datetime.datetime(2024, 5, 10, 0, 0), -1), (datetime.datetime(2024, 5, 17, 0, 0), 1), (datetime.datetime(2024, 5, 20, 0, 0), 1), (datetime.datetime(2024, 5, 24, 0, 0), 1), (datetime.datetime(2024, 6, 2, 0, 0), 1), (datetime.datetime(2024, 6, 7, 0, 0), -1), (datetime.datetime(2024, 6, 10, 0, 0), 1), (datetime.datetime(2024, 6, 11, 0, 0), 1), (datetime.datetime(2024, 6, 12, 0, 0), -3), (datetime.datetime(2024, 6, 15, 0, 0), -1), (datetime.datetime(2024, 6, 17, 0, 0), 1), (datetime.datetime(2024, 6, 20, 0, 0), -1), (datetime.datetime(2024, 6, 22, 0, 0), 1), (datetime.datetime(2024, 6, 27, 0, 0), -1), (datetime.datetime(2024, 6, 29, 0, 0), -1), (datetime.datetime(2024, 6, 30, 0, 0), 0)]\n",
      "Максимальное число посетителей (5) было 2024-06-11\n"
     ]
    }
   ],
   "source": [
    "visits = [\n",
    "    ('2024-06-22', '2024-06-29'),\n",
    "    ('2024-05-17', '2024-06-07'),\n",
    "    ('2024-06-11', '2024-06-12'),\n",
    "    ('2024-06-30', '2024-06-30'),\n",
    "    ('2024-06-02', '2024-06-12'),\n",
    "    ('2024-06-17', '2024-06-27'),\n",
    "    ('2024-06-10', '2024-06-15'),\n",
    "    ('2024-05-24', '2024-06-12'),\n",
    "    ('2024-05-02', '2024-05-10'),\n",
    "    ('2024-05-20', '2024-06-20')\n",
    "]\n",
    "\n",
    "max_day, max_visitors = the_busiest_day(visits) \n",
    "print(f\"Максимальное число посетителей ({max_visitors}) было {max_day.strftime('%Y-%m-%d')}\")\n"
   ]
  }
 ],
 "metadata": {
  "kernelspec": {
   "display_name": "Python 3",
   "language": "python",
   "name": "python3"
  },
  "language_info": {
   "codemirror_mode": {
    "name": "ipython",
    "version": 3
   },
   "file_extension": ".py",
   "mimetype": "text/x-python",
   "name": "python",
   "nbconvert_exporter": "python",
   "pygments_lexer": "ipython3",
   "version": "3.8.5"
  }
 },
 "nbformat": 4,
 "nbformat_minor": 2
}
